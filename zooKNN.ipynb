{
  "nbformat": 4,
  "nbformat_minor": 0,
  "metadata": {
    "colab": {
      "provenance": [],
      "authorship_tag": "ABX9TyNgEj44/TseZkc/f9xM+NdF",
      "include_colab_link": true
    },
    "kernelspec": {
      "name": "python3",
      "display_name": "Python 3"
    },
    "language_info": {
      "name": "python"
    }
  },
  "cells": [
    {
      "cell_type": "markdown",
      "metadata": {
        "id": "view-in-github",
        "colab_type": "text"
      },
      "source": [
        "<a href=\"https://colab.research.google.com/github/beatrixvascc/knn_zoo/blob/main/zooKNN.ipynb\" target=\"_parent\"><img src=\"https://colab.research.google.com/assets/colab-badge.svg\" alt=\"Open In Colab\"/></a>"
      ]
    },
    {
      "cell_type": "code",
      "execution_count": null,
      "metadata": {
        "id": "F01CDjZZwJWo"
      },
      "outputs": [],
      "source": [
        "import pandas as pd\n",
        "import sklearn as sk\n",
        "import matplotlib.pyplot as plt\n",
        "import seaborn as sns"
      ]
    },
    {
      "cell_type": "code",
      "source": [
        "zoo = pd.read_csv(\"zoo.csv\")\n",
        "row=0\n",
        "for i in zoo['class_type']:\n",
        "  if i==5:\n",
        "    print(zoo.iloc[row:row+1])\n",
        "  row+=1"
      ],
      "metadata": {
        "colab": {
          "base_uri": "https://localhost:8080/"
        },
        "id": "zoRQtpTsxDRg",
        "outputId": "5892ea34-4a81-4f92-e475-1bd7add3cd26"
      },
      "execution_count": null,
      "outputs": [
        {
          "output_type": "stream",
          "name": "stdout",
          "text": [
            "   animal_name  hair  feathers  eggs  milk  airborne  aquatic  predator  \\\n",
            "25        frog     0         0     1     0         0        1         1   \n",
            "\n",
            "    toothed  backbone  breathes  venomous  fins  legs  tail  domestic  \\\n",
            "25        1         1         1         0     0     4     0         0   \n",
            "\n",
            "    catsize  class_type  \n",
            "25        0           5  \n",
            "   animal_name  hair  feathers  eggs  milk  airborne  aquatic  predator  \\\n",
            "26        frog     0         0     1     0         0        1         1   \n",
            "\n",
            "    toothed  backbone  breathes  venomous  fins  legs  tail  domestic  \\\n",
            "26        1         1         1         1     0     4     0         0   \n",
            "\n",
            "    catsize  class_type  \n",
            "26        0           5  \n",
            "   animal_name  hair  feathers  eggs  milk  airborne  aquatic  predator  \\\n",
            "52        newt     0         0     1     0         0        1         1   \n",
            "\n",
            "    toothed  backbone  breathes  venomous  fins  legs  tail  domestic  \\\n",
            "52        1         1         1         0     0     4     1         0   \n",
            "\n",
            "    catsize  class_type  \n",
            "52        0           5  \n",
            "   animal_name  hair  feathers  eggs  milk  airborne  aquatic  predator  \\\n",
            "89        toad     0         0     1     0         0        1         0   \n",
            "\n",
            "    toothed  backbone  breathes  venomous  fins  legs  tail  domestic  \\\n",
            "89        1         1         1         0     0     4     0         0   \n",
            "\n",
            "    catsize  class_type  \n",
            "89        0           5  \n"
          ]
        }
      ]
    },
    {
      "cell_type": "code",
      "source": [
        "zoo = pd.read_csv(\"zoo.csv\")\n",
        "zoodata = pd.DataFrame(zoo)\n",
        "row=0\n",
        "for i,row in zoodata.iterrows():\n",
        "  if i==3:\n",
        "    print(row[\"animal_name\"])\n",
        "  row=+1\n",
        "\n"
      ],
      "metadata": {
        "colab": {
          "base_uri": "https://localhost:8080/"
        },
        "id": "rcyq8-uCzb4p",
        "outputId": "b78a66cc-1439-4ea3-d146-f7a981f73d18"
      },
      "execution_count": null,
      "outputs": [
        {
          "output_type": "stream",
          "name": "stdout",
          "text": [
            "bear\n"
          ]
        }
      ]
    },
    {
      "cell_type": "markdown",
      "source": [
        "encontra o array pra fazer o if/else e saber o numero de indices na lista"
      ],
      "metadata": {
        "id": "7ehsne-x67Hk"
      }
    },
    {
      "cell_type": "code",
      "source": [
        "\n",
        "pernas = zoo[\"legs\"].unique() #pega todos os valores diferentes de quantidade de perna\n",
        "pernas.sort()   #ordena do menor pro maior\n",
        "pernas\n"
      ],
      "metadata": {
        "colab": {
          "base_uri": "https://localhost:8080/"
        },
        "id": "OYAO9p9Z5-1v",
        "outputId": "c99effa2-e7e2-4b3e-9e3b-2663fd265405"
      },
      "execution_count": null,
      "outputs": [
        {
          "output_type": "execute_result",
          "data": {
            "text/plain": [
              "array([0, 2, 4, 5, 6, 8])"
            ]
          },
          "metadata": {},
          "execution_count": 5
        }
      ]
    },
    {
      "cell_type": "markdown",
      "source": [
        "cria a lista de quantidades e o grafico"
      ],
      "metadata": {
        "id": "As80Xd4r7EqP"
      }
    },
    {
      "cell_type": "code",
      "source": [
        "\n",
        "qtd = [0, 0, 0, 0, 0, 0]\n",
        "for i in zoo[\"legs\"]:\n",
        "  if i==0:   #se nao tiver perna adiciona em qtd[0]\n",
        "    qtd[0]+=1\n",
        "  elif i==2:  #se tiver uma perna adiciona em qtd[1]\n",
        "    qtd[1]+=1\n",
        "  elif i==4:   #se tiver quatro pernas adiciona em qtd[2]....\n",
        "    qtd[2]+=1\n",
        "  elif i==5:  #se tiver quatro pernas adiciona em qtd[3]\n",
        "    qtd[3]+=1\n",
        "  elif i==6:  #se tiver quatro pernas adiciona em qtd[4]\n",
        "    qtd[4]+=1\n",
        "  elif i==8: #se tiver quatro pernas adiciona em qtd[5]\n",
        "    qtd[5]+=1\n",
        "\n",
        "\n",
        "plt.figure(figsize=(5, 2), dpi=350)\n",
        "plt.bar(x=pernas, height=qtd, color=['black', 'red', 'purple', 'blue','green','orange'])\n",
        "plt.yticks(qtd, fontsize=4)\n",
        "plt.grid(axis='y', linestyle='dotted', linewidth=0.5)\n",
        "\n"
      ],
      "metadata": {
        "colab": {
          "base_uri": "https://localhost:8080/",
          "height": 491
        },
        "id": "3Y16VKmF3oc7",
        "outputId": "33dba784-2e04-4ede-b272-ae91f5dd67cd"
      },
      "execution_count": null,
      "outputs": [
        {
          "output_type": "display_data",
          "data": {
            "text/plain": [
              "<Figure size 1750x700 with 1 Axes>"
            ],
            "image/png": "[encoded data removed]"
          },
          "metadata": {}
        }
      ]
    },
    {
      "cell_type": "markdown",
      "source": [
        "para knn usando scikit learn"
      ],
      "metadata": {
        "id": "WrfmZhsnGUDi"
      }
    },
    {
      "cell_type": "code",
      "source": [
        "import pandas as pd\n",
        "import sklearn as sk\n",
        "import matplotlib.pyplot as plt\n",
        "import seaborn as sns"
      ],
      "metadata": {
        "id": "9vGJiiulGXUs"
      },
      "execution_count": null,
      "outputs": []
    },
    {
      "cell_type": "markdown",
      "source": [
        "le o arquivo"
      ],
      "metadata": {
        "id": "1v_RPt57G4in"
      }
    },
    {
      "cell_type": "code",
      "source": [
        "zoo = pd.read_csv(\"zoo.csv\")"
      ],
      "metadata": {
        "id": "x3v83RKRGu_L"
      },
      "execution_count": null,
      "outputs": []
    },
    {
      "cell_type": "markdown",
      "source": [
        "exclui as colunas inuteis"
      ],
      "metadata": {
        "id": "LZ3mJNnEG6bz"
      }
    },
    {
      "cell_type": "code",
      "source": [
        "from sklearn.model_selection import train_test_split\n",
        "from sklearn.metrics import ConfusionMatrixDisplay, confusion_matrix\n",
        "from sklearn.metrics import accuracy_score\n",
        "\n",
        "# Para o kNN\n",
        "from sklearn.neighbors import KNeighborsClassifier\n",
        "\n",
        "X = zoo.drop(columns=\"class_type\")\n",
        "X = X.drop(columns=\"animal_name\")\n",
        "X.head()\n",
        "\n",
        "y = zoo[\"class_type\"] # Atribuindo a coluna de classe a variavel y\n",
        "y.head()"
      ],
      "metadata": {
        "colab": {
          "base_uri": "https://localhost:8080/"
        },
        "id": "1oU8oYuwHRa7",
        "outputId": "fb53a53a-8304-4005-ce8c-c89fd235eabd"
      },
      "execution_count": null,
      "outputs": [
        {
          "output_type": "execute_result",
          "data": {
            "text/plain": [
              "0    1\n",
              "1    1\n",
              "2    4\n",
              "3    1\n",
              "4    1\n",
              "Name: class_type, dtype: int64"
            ]
          },
          "metadata": {},
          "execution_count": 35
        }
      ]
    },
    {
      "cell_type": "markdown",
      "source": [
        "agora separa os dados em conjunto de teste e treinamento"
      ],
      "metadata": {
        "id": "dYm-PEKMHkmv"
      }
    },
    {
      "cell_type": "code",
      "source": [
        "X_train, X_test, y_train, y_test = train_test_split(X,y,test_size=0.3,random_state=13)\n"
      ],
      "metadata": {
        "id": "0fc1BtDcH12y"
      },
      "execution_count": null,
      "outputs": []
    },
    {
      "cell_type": "markdown",
      "source": [
        "encontra agora o numero de vizinhos"
      ],
      "metadata": {
        "id": "LQfYBu84IUuX"
      }
    },
    {
      "cell_type": "code",
      "source": [
        "classificador = KNeighborsClassifier(n_neighbors=5)"
      ],
      "metadata": {
        "id": "SXZSv6tqIXjB"
      },
      "execution_count": null,
      "outputs": []
    },
    {
      "cell_type": "markdown",
      "source": [
        "treina o modelo"
      ],
      "metadata": {
        "id": "MEWXxEmqIh5y"
      }
    },
    {
      "cell_type": "code",
      "source": [
        "classificador.fit(X_train,y_train)"
      ],
      "metadata": {
        "colab": {
          "base_uri": "https://localhost:8080/",
          "height": 75
        },
        "id": "hR0Q2TTOIkPN",
        "outputId": "319e8cc4-521b-462f-a269-5192cee5282e"
      },
      "execution_count": null,
      "outputs": [
        {
          "output_type": "execute_result",
          "data": {
            "text/plain": [
              "KNeighborsClassifier()"
            ],
            "text/html": [
              "<style>#sk-container-id-1 {color: black;background-color: white;}#sk-container-id-1 pre{padding: 0;}#sk-container-id-1 div.sk-toggleable {background-color: white;}#sk-container-id-1 label.sk-toggleable__label {cursor: pointer;display: block;width: 100%;margin-bottom: 0;padding: 0.3em;box-sizing: border-box;text-align: center;}#sk-container-id-1 label.sk-toggleable__label-arrow:before {content: \"▸\";float: left;margin-right: 0.25em;color: #696969;}#sk-container-id-1 label.sk-toggleable__label-arrow:hover:before {color: black;}#sk-container-id-1 div.sk-estimator:hover label.sk-toggleable__label-arrow:before {color: black;}#sk-container-id-1 div.sk-toggleable__content {max-height: 0;max-width: 0;overflow: hidden;text-align: left;background-color: #f0f8ff;}#sk-container-id-1 div.sk-toggleable__content pre {margin: 0.2em;color: black;border-radius: 0.25em;background-color: #f0f8ff;}#sk-container-id-1 input.sk-toggleable__control:checked~div.sk-toggleable__content {max-height: 200px;max-width: 100%;overflow: auto;}#sk-container-id-1 input.sk-toggleable__control:checked~label.sk-toggleable__label-arrow:before {content: \"▾\";}#sk-container-id-1 div.sk-estimator input.sk-toggleable__control:checked~label.sk-toggleable__label {background-color: #d4ebff;}#sk-container-id-1 div.sk-label input.sk-toggleable__control:checked~label.sk-toggleable__label {background-color: #d4ebff;}#sk-container-id-1 input.sk-hidden--visually {border: 0;clip: rect(1px 1px 1px 1px);clip: rect(1px, 1px, 1px, 1px);height: 1px;margin: -1px;overflow: hidden;padding: 0;position: absolute;width: 1px;}#sk-container-id-1 div.sk-estimator {font-family: monospace;background-color: #f0f8ff;border: 1px dotted black;border-radius: 0.25em;box-sizing: border-box;margin-bottom: 0.5em;}#sk-container-id-1 div.sk-estimator:hover {background-color: #d4ebff;}#sk-container-id-1 div.sk-parallel-item::after {content: \"\";width: 100%;border-bottom: 1px solid gray;flex-grow: 1;}#sk-container-id-1 div.sk-label:hover label.sk-toggleable__label {background-color: #d4ebff;}#sk-container-id-1 div.sk-serial::before {content: \"\";position: absolute;border-left: 1px solid gray;box-sizing: border-box;top: 0;bottom: 0;left: 50%;z-index: 0;}#sk-container-id-1 div.sk-serial {display: flex;flex-direction: column;align-items: center;background-color: white;padding-right: 0.2em;padding-left: 0.2em;position: relative;}#sk-container-id-1 div.sk-item {position: relative;z-index: 1;}#sk-container-id-1 div.sk-parallel {display: flex;align-items: stretch;justify-content: center;background-color: white;position: relative;}#sk-container-id-1 div.sk-item::before, #sk-container-id-1 div.sk-parallel-item::before {content: \"\";position: absolute;border-left: 1px solid gray;box-sizing: border-box;top: 0;bottom: 0;left: 50%;z-index: -1;}#sk-container-id-1 div.sk-parallel-item {display: flex;flex-direction: column;z-index: 1;position: relative;background-color: white;}#sk-container-id-1 div.sk-parallel-item:first-child::after {align-self: flex-end;width: 50%;}#sk-container-id-1 div.sk-parallel-item:last-child::after {align-self: flex-start;width: 50%;}#sk-container-id-1 div.sk-parallel-item:only-child::after {width: 0;}#sk-container-id-1 div.sk-dashed-wrapped {border: 1px dashed gray;margin: 0 0.4em 0.5em 0.4em;box-sizing: border-box;padding-bottom: 0.4em;background-color: white;}#sk-container-id-1 div.sk-label label {font-family: monospace;font-weight: bold;display: inline-block;line-height: 1.2em;}#sk-container-id-1 div.sk-label-container {text-align: center;}#sk-container-id-1 div.sk-container {/* jupyter's `normalize.less` sets `[hidden] { display: none; }` but bootstrap.min.css set `[hidden] { display: none !important; }` so we also need the `!important` here to be able to override the default hidden behavior on the sphinx rendered scikit-learn.org. See: https://github.com/scikit-learn/scikit-learn/issues/21755 */display: inline-block !important;position: relative;}#sk-container-id-1 div.sk-text-repr-fallback {display: none;}</style><div id=\"sk-container-id-1\" class=\"sk-top-container\"><div class=\"sk-text-repr-fallback\"><pre>KNeighborsClassifier()</pre><b>In a Jupyter environment, please rerun this cell to show the HTML representation or trust the notebook. <br />On GitHub, the HTML representation is unable to render, please try loading this page with nbviewer.org.</b></div><div class=\"sk-container\" hidden><div class=\"sk-item\"><div class=\"sk-estimator sk-toggleable\"><input class=\"sk-toggleable__control sk-hidden--visually\" id=\"sk-estimator-id-1\" type=\"checkbox\" checked><label for=\"sk-estimator-id-1\" class=\"sk-toggleable__label sk-toggleable__label-arrow\">KNeighborsClassifier</label><div class=\"sk-toggleable__content\"><pre>KNeighborsClassifier()</pre></div></div></div></div></div>"
            ]
          },
          "metadata": {},
          "execution_count": 38
        }
      ]
    },
    {
      "cell_type": "markdown",
      "source": [
        "preve  os resultados com os dados teste"
      ],
      "metadata": {
        "id": "YuysKxuMI1K6"
      }
    },
    {
      "cell_type": "code",
      "source": [
        "macumba = classificador.predict(X_test)"
      ],
      "metadata": {
        "id": "1HuwQVZvI6bZ"
      },
      "execution_count": null,
      "outputs": []
    },
    {
      "cell_type": "markdown",
      "source": [
        "ve a acuracia do modelo"
      ],
      "metadata": {
        "id": "uBT7Ae-1JFZI"
      }
    },
    {
      "cell_type": "code",
      "source": [
        "accuracy_score(y_true=y_test,y_pred=macumba)"
      ],
      "metadata": {
        "colab": {
          "base_uri": "https://localhost:8080/"
        },
        "id": "HDHMhDAnJIYj",
        "outputId": "b078a883-4084-4adf-d137-db29f74382d6"
      },
      "execution_count": null,
      "outputs": [
        {
          "output_type": "execute_result",
          "data": {
            "text/plain": [
              "0.9032258064516129"
            ]
          },
          "metadata": {},
          "execution_count": 41
        }
      ]
    },
    {
      "cell_type": "markdown",
      "source": [
        "ve a matriz de confusao que mostra os erros"
      ],
      "metadata": {
        "id": "r_jOh1bpK73Y"
      }
    },
    {
      "cell_type": "code",
      "source": [
        "matriz = confusion_matrix(y_true=y_test,y_pred=macumba)\n",
        "matriz\n",
        "matriz = ConfusionMatrixDisplay(confusion_matrix=matriz)\n",
        "matriz.plot()"
      ],
      "metadata": {
        "colab": {
          "base_uri": "https://localhost:8080/",
          "height": 466
        },
        "id": "gxi6cBcwK_EV",
        "outputId": "1501ea95-1513-4792-f9ab-15124cc8a247"
      },
      "execution_count": null,
      "outputs": [
        {
          "output_type": "execute_result",
          "data": {
            "text/plain": [
              "<sklearn.metrics._plot.confusion_matrix.ConfusionMatrixDisplay at 0x7fe7a77979a0>"
            ]
          },
          "metadata": {},
          "execution_count": 43
        },
        {
          "output_type": "display_data",
          "data": {
            "text/plain": [
              "<Figure size 640x480 with 2 Axes>"
            ],
            "image/png": "[encoded data removed]"
          },
          "metadata": {}
        }
      ]
    }
  ]
}